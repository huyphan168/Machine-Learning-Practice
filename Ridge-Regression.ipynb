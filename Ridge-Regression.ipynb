import numpy as np
import matplotlib.pyplot as plt
m = 100
X = 6*np.random.rand(m,1) - 3
y = X**7 + 0.7*X**5 + 62*X**4 + 2*X**3 + X**2 + X - 1000*np.random.rand(m,1)
plt.plot(X, y, "ro", alpha = 0.4, color = "black" )
plt.show()

#Preprocessing data
from sklearn.pipeline import Pipeline
from sklearn.preprocessing import PolynomialFeatures
from sklearn.preprocessing import StandardScaler
pipeline = Pipeline([("PF", PolynomialFeatures(degree = 7, include_bias = False)),
                    ("SS", StandardScaler())])
x_transformed = pipeline.fit_transform(X)

#Fitting model
from sklearn.linear_model import Ridge
ridge = Ridge(alpha = 1, solver = "cholesky")
ridge.fit(x_transformed, y)

#Validation
x_val = np.linspace(-3, 3, 100).reshape(100,1)
x_val_transformed = pipeline.transform(x_val)
y_val = ridge.predict(x_val_transformed)
plt.plot(X,y, "co", color = "black", alpha = 0.2)
plt.plot(x_val, y_val, "-r", label = "Prediction line")
