import numpy as np
import matplotlib.pyplot as plt
np.random.seed(2)

X = np.array([[0.50, 0.75, 1.00, 1.25, 1.50, 1.75, 1.75, 2.00, 2.25, 2.50, 
              2.75, 3.00, 3.25, 3.50, 4.00, 4.25, 4.50, 4.75, 5.00, 5.50]])
y = np.array([0, 0, 0, 0, 0, 0, 1, 0, 1, 0, 1, 0, 1, 0, 1, 1, 1, 1, 1, 1])

Xbar = np.concatenate((np.ones((1, X.shape[1])), X), axis = 0)
def sigmoid(x):
    return 1/(1+np.exp(-x))
def costfunc(Xbar, y, w):
    A = np.multiply(y , np.exp(w.T.dot(Xbar)))
    B = np.multiply(1-y , 1 - np.exp(w.T.dot(Xbar)))
    return -np.sum(A+B)
def logistic_regr(Xbar, y, w_init, eta):
    W = [w_init]
    N = Xbar.shape[1]
    d = Xbar.shape[0]
    for k in range(1000):
        random_id = np.random.permutation(N)
        for i in range(N):
            xi = Xbar[:, random_id[i]].reshape(d, 1)
            yi = y[random_id[i]].reshape(1,1)
            w_new = W[-1] + eta*np.dot(xi,(yi - sigmoid(W[-1].T.dot(xi))))
            W.append(w_new)
            if costfunc(Xbar, y, W[-1]) < 1e-10:
                break
    return W[-1]
w = logistic_regr(Xbar, y, np.random.rand(Xbar.shape[0], 1), 0.2)
X0 = Xbar[1, np.where(y == 0)][0]
y0 = y[np.where(y == 0)]
X1 = Xbar[1, np.where(y == 1)][0]
y1 = y[np.where(y == 1)]

plt.plot(X0, y0, 'ro', markersize = 8)
plt.plot(X1, y1, 'bs', markersize = 8)

xx = np.linspace(0, 6, 1000)
w0 = w[0][0]
w1 = w[1][0]
threshold = -w0/w1
yy = sigmoid(w0 + w1*xx)
plt.axis([-2, 8, -1, 2])
plt.plot(xx, yy, 'g-', linewidth = 2)
plt.plot(threshold, .5, 'y^', markersize = 8)
plt.xlabel('studying hours')
plt.ylabel('predicted probability of pass')
plt.show()
print("done", w)
