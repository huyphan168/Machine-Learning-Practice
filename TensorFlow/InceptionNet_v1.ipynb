{
  "nbformat": 4,
  "nbformat_minor": 0,
  "metadata": {
    "colab": {
      "name": "InceptionNet v1.ipynb",
      "provenance": []
    },
    "kernelspec": {
      "name": "python3",
      "display_name": "Python 3"
    }
  },
  "cells": [
    {
      "cell_type": "code",
      "metadata": {
        "id": "By4kk4K_ppnG",
        "colab_type": "code",
        "colab": {}
      },
      "source": [
        "from tensorflow import keras\n",
        "from tensorflow.keras import layers\n",
        "from tensorflow.keras.layers import Conv2D, MaxPooling2D, Concatenate, Lambda, Dense, Activation, Input, AveragePooling2D, Flatten, Dropout\n",
        "from tensorflow.nn import local_response_normalization\n",
        "from IPython.display import SVG\n",
        "from tensorflow.keras.utils import model_to_dot\n",
        "from tensorflow.keras.utils import plot_model\n",
        "from tensorflow.keras.initializers import glorot_uniform\n",
        "from tensorflow.keras.models import Model\n",
        "from sklearn.preprocessing import OneHotEncoder, LabelEncoder\n",
        "from sklearn.model_selection import train_test_split\n",
        "import matplotlib.pyplot as plt \n",
        "import sklearn "
      ],
      "execution_count": 0,
      "outputs": []
    },
    {
      "cell_type": "markdown",
      "metadata": {
        "id": "tfh0Nzl05QZR",
        "colab_type": "text"
      },
      "source": [
        "*Today i will implement the InceptionNet version 1 based on this wonderful and  specific architecture from medium* \n",
        "\n",
        "\n",
        "![alt text](https://mk0learnfx6ydjq1jij.kinstacdn.com/wp-content/uploads/2019/09/1_53uKkbeyzJcdo8PE5TQqqw-1-1024x700.png)\n",
        "\n",
        "Mong la khong fail :v"
      ]
    },
    {
      "cell_type": "code",
      "metadata": {
        "id": "cdUFa7RYxfBW",
        "colab_type": "code",
        "colab": {}
      },
      "source": [
        "def LocResNorm(X):\n",
        "  X = local_response_normalization(X)\n",
        "  return X\n",
        "def Inception_module(X, filters):\n",
        "  X_conv1 = X\n",
        "  X_conv3 = X\n",
        "  X_conv5 = X\n",
        "  X_pool = X\n",
        "  F1_conv1_1, F1_conv1_3, F2_conv3, F1_conv1_5, F2_conv5, F2_conv1 = filters\n",
        "  X_conv1 = Conv2D(F1_conv1_1, kernel_size = (1,1), padding = \"same\", kernel_initializer = glorot_uniform(seed = 0))(X_conv1)\n",
        "  X_conv1 = Activation(\"relu\")(X_conv1)\n",
        "  X_conv3 = Conv2D(F1_conv1_3, kernel_size=(1,1), padding = \"same\", kernel_initializer= glorot_uniform(seed = 0))(X_conv3)\n",
        "  X_conv3 = Activation(\"relu\")(X_conv3)\n",
        "  X_conv3 = Conv2D(F2_conv3, kernel_size= (3,3), padding = \"same\", kernel_initializer = glorot_uniform(seed = 0))(X_conv3)\n",
        "  X_conv3 = Activation(\"relu\")(X_conv3)\n",
        "  X_conv5 = Conv2D(F1_conv1_5, kernel_size=(1,1), padding = \"same\", kernel_initializer= glorot_uniform(seed = 0))(X_conv5)\n",
        "  X_conv5 = Activation(\"relu\")(X_conv5)\n",
        "  X_conv5 = Conv2D(F2_conv5, kernel_size= (5,5), padding = \"same\", kernel_initializer = glorot_uniform(seed = 0))(X_conv5)\n",
        "  X_conv5 = Activation(\"relu\")(X_conv5)\n",
        "  X_pool = MaxPooling2D(pool_size=(3,3), padding = \"same\", strides = (1,1))(X_pool)\n",
        "  X_pool = Activation(\"relu\")(X_pool)\n",
        "  X_pool = Conv2D(F2_conv1, kernel_size= (1,1), padding = \"same\", kernel_initializer = glorot_uniform(seed = 0))(X_pool)\n",
        "  X_pool = Activation(\"relu\")(X_pool)\n",
        "  X = Concatenate(axis = 3)([X_conv1, X_conv3, X_conv5, X_pool])\n",
        "  return X\n",
        "def Stem_module(X, filters):\n",
        "  F_conv7, F_conv1, F_conv3 = filters\n",
        "  X = Conv2D(F_conv7, kernel_size = (7,7), strides = (2,2), kernel_initializer= glorot_uniform(seed = 0), padding = \"same\")(X)\n",
        "  X = Activation(\"relu\")(X)\n",
        "  X = MaxPooling2D(pool_size = (3,3), strides = (2,2), padding= \"same\")(X)\n",
        "  X = LocResNorm(X)\n",
        "  X = Conv2D(F_conv1, kernel_size=(1,1), padding = \"valid\", strides = (1,1), kernel_initializer=glorot_uniform(seed = 0))(X)\n",
        "  X = Activation(\"relu\")(X)\n",
        "  X = Conv2D(F_conv3, kernel_size=(3,3), kernel_initializer = glorot_uniform(seed = 0), strides = (1,1), padding = \"same\")(X)\n",
        "  X = Activation(\"relu\")(X)\n",
        "  X = LocResNorm(X)\n",
        "  X = MaxPooling2D(pool_size = (3,3), strides = (2,2), padding = \"valid\")(X)\n",
        "  return X\n",
        "def Auxiliary_module(X, filter, classes):\n",
        "  X = AveragePooling2D(pool_size = (5,5), strides = (3,3), padding = \"valid\")(X)\n",
        "  X = Conv2D(filter, kernel_size = (1,1), strides = (1,1), padding = \"same\", kernel_initializer = glorot_uniform(seed = 0))(X)\n",
        "  X = Flatten()(X)\n",
        "  X = Dense(512, activation = \"relu\", kernel_initializer = glorot_uniform(seed = 0))(X)\n",
        "  X = Dense(classes, activation = \"softmax\", kernel_initializer = glorot_uniform(seed = 0))(X)\n",
        "  return X"
      ],
      "execution_count": 0,
      "outputs": []
    },
    {
      "cell_type": "code",
      "metadata": {
        "id": "iLucbocF4kxT",
        "colab_type": "code",
        "colab": {}
      },
      "source": [
        "def GoogleNet_v1(input_shape, classes):\n",
        "  X_input = Input(input_shape)\n",
        "  X = Stem_module(X_input, [64,64,192])\n",
        "  X = Inception_module(X, [64, 96, 128, 16, 32, 32])\n",
        "  X = Inception_module(X, [128, 128, 192, 32, 96, 64])\n",
        "  X = MaxPooling2D(pool_size = (3,3), strides = (2,2), padding = \"same\")(X)\n",
        "  X = Inception_module(X, [192, 96, 208, 16, 48, 64])\n",
        "  X_aux1 = X\n",
        "  softmax_0 = Auxiliary_module(X_aux1, 128, 10)\n",
        "  X = Inception_module(X, [160, 112, 224, 24, 64, 64])\n",
        "  X = Inception_module(X, [128, 128, 256, 24, 64, 64])\n",
        "  X = Inception_module(X, [112, 144, 288, 32, 64, 64])\n",
        "  X_aux2 = X\n",
        "  softmax_1 = Auxiliary_module(X_aux2, 128, 10)\n",
        "  X = Inception_module(X, [256, 160, 320, 32, 128, 128])\n",
        "  X = MaxPooling2D(pool_size=(3,3), strides = (2,2), padding = \"same\")(X)\n",
        "  X = Inception_module(X, [256, 160, 320, 32, 128, 128])\n",
        "  X = Inception_module(X, [384, 192, 384, 48, 128, 128])\n",
        "  X = AveragePooling2D(pool_size = (7,7), strides = (1,1), padding = \"valid\")(X)\n",
        "  X = Flatten()(X)\n",
        "  X = Dropout(0.4)(X)\n",
        "  X = Dense(512, activation = \"relu\", kernel_initializer = glorot_uniform(seed = 0))(X)\n",
        "  softmax_2 = Dense(classes, activation = \"softmax\", kernel_initializer = glorot_uniform(seed = 0))(X)\n",
        "  model = Model(inputs = X_input, outputs = [softmax_0, softmax_1, softmax_2], name = \"GoogleNet_v1\")\n",
        "  return model"
      ],
      "execution_count": 0,
      "outputs": []
    },
    {
      "cell_type": "code",
      "metadata": {
        "id": "SRjRkDPcQZEI",
        "colab_type": "code",
        "colab": {}
      },
      "source": [
        "def loss_func(y_true, soft_max_list):\n",
        "  softmax_0, softmax_1, softmax_2 = soft_max_list\n",
        "  Comp_0 = tf.keras.losses.categorical_crossentropy(y_true, softmax_0)\n",
        "  Comp_1 = tf.keras.losses.categorical_crossentropy(y_true, softmax_1)\n",
        "  Comp_2 = tf.keras.losses.categorical_crossentropy(y_true, softmax_2)\n",
        "  return Comp_2 + 0.3*Comp_1 + 0.3*Comp_0 "
      ],
      "execution_count": 0,
      "outputs": []
    },
    {
      "cell_type": "code",
      "metadata": {
        "id": "Ced-cvRhSFIV",
        "colab_type": "code",
        "colab": {}
      },
      "source": [
        "model = GoogleNet_v1((224, 224, 3), 10)"
      ],
      "execution_count": 0,
      "outputs": []
    },
    {
      "cell_type": "code",
      "metadata": {
        "id": "Q3kKn2AjToOL",
        "colab_type": "code",
        "colab": {}
      },
      "source": [
        "model.compile(optimizer= \"adam\", loss = loss_func, metrics = [\"accuracy\"])"
      ],
      "execution_count": 0,
      "outputs": []
    },
    {
      "cell_type": "code",
      "metadata": {
        "id": "ZO8t-4MRZSb4",
        "colab_type": "code",
        "colab": {}
      },
      "source": [
        ""
      ],
      "execution_count": 0,
      "outputs": []
    }
  ]
}