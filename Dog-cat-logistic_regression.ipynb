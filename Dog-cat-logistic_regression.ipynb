import random
import numpy as np
from sklearn import linear_model
from sklearn.metrics import accuracy_score
from imutils import paths
import os
from keras.preprocessing.image import load_img
#load image_path
image_path = list(paths.list_images('DC-classification/dataset/training_set'))
random.shuffle(image_path)
image_path_train = image_path[0:2000]
image_path_test = image_path[0:1000]
def label_list_images(image_path):
    list_images = []
    label = []
    for imagepath in image_path:
        if "dog" in imagepath:
            label.append(1)
        elif "cat" in imagepath:
            label.append(0)
        image = load_img(imagepath, target_size = (200,300))
        list_images.append(image)
    return list_images, label 
list_images_train, label_train = label_list_images(image_path_train)
list_images_test, label_test = label_list_images(image_path_test)

#TEST
print(list_images_train[0], label_train[0])

D = 200*300
d = 500
projection_matrix = np.random.rand(D, d)
N_train = len(label_train)
N_test = len(label_test)
print(N_train, N_test)

def rgb2gray(rgb):
    return rgb[:,:,0]*.299 + rgb[:, :, 1]*.587 + rgb[:, :, 2]*.114
def vectorize_image(image):
    rgb = np.asarray(image)
    gray = rgb2gray(rgb)
    vec = gray.reshape(1,D)
    return vec
def build_data_matrix(list_images, label, N, D, projection_matrix):
    X1 = np.zeros((N, int(D/2)))
    X2 = np.zeros((N, int(D/2)))
    X_full = np.hstack((X1, X2))
    for (i, sample_image) in enumerate(list_images):
        X_full[i, :] = vectorize_image(sample_image)
    y = np.zeros((N,))
    for (i, k) in enumerate(label):
        y[i] = k
    X = np.dot(X_full, projection_matrix)
    return (X,y)
def Regularize(X):
    return (X - X.mean(axis = 0)) / X.var(axis = 0)

X_train_full, y_train = build_data_matrix(list_images_train, label_train, N_train, D, projection_matrix)
X_test_full, y_test = build_data_matrix(list_images_test, label_test, N_test, D, projection_matrix)
X_train = Regularize(X_train_full)
X_test = Regularize(X_test_full)

#ignore future warning
from warnings import simplefilter
simplefilter(action='ignore', category=FutureWarning)

classifier = linear_model.LogisticRegression(C=1e5)
classifier.fit(X_train, y_train)
y_pred = classifier.predict(X_test)
print("Accuracy percentage: {}%".format(100*accuracy_score(y_test, y_pred)))
print(X_train.shape, X_test.shape, y_train.shape)
