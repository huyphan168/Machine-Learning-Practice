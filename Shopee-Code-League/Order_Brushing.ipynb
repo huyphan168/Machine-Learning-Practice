{
  "nbformat": 4,
  "nbformat_minor": 0,
  "metadata": {
    "colab": {
      "name": "Order_Brushing.ipynb",
      "provenance": []
    },
    "kernelspec": {
      "name": "python3",
      "display_name": "Python 3"
    }
  },
  "cells": [
    {
      "cell_type": "code",
      "metadata": {
        "id": "HAAYPxvQ0DUS",
        "colab_type": "code",
        "colab": {}
      },
      "source": [
        "import pandas as pd\n",
        "import numpy as np"
      ],
      "execution_count": null,
      "outputs": []
    },
    {
      "cell_type": "code",
      "metadata": {
        "id": "jy8xPKAi0I4H",
        "colab_type": "code",
        "colab": {
          "base_uri": "https://localhost:8080/",
          "height": 204
        },
        "outputId": "9f7fbf26-9618-4754-b584-508611e2e557"
      },
      "source": [
        "data = pandas.read_csv(\"/content/drive/My Drive/Colab datasets/order_brush_order.csv\")\n",
        "data.head()"
      ],
      "execution_count": null,
      "outputs": [
        {
          "output_type": "execute_result",
          "data": {
            "text/html": [
              "<div>\n",
              "<style scoped>\n",
              "    .dataframe tbody tr th:only-of-type {\n",
              "        vertical-align: middle;\n",
              "    }\n",
              "\n",
              "    .dataframe tbody tr th {\n",
              "        vertical-align: top;\n",
              "    }\n",
              "\n",
              "    .dataframe thead th {\n",
              "        text-align: right;\n",
              "    }\n",
              "</style>\n",
              "<table border=\"1\" class=\"dataframe\">\n",
              "  <thead>\n",
              "    <tr style=\"text-align: right;\">\n",
              "      <th></th>\n",
              "      <th>orderid</th>\n",
              "      <th>shopid</th>\n",
              "      <th>userid</th>\n",
              "      <th>event_time</th>\n",
              "    </tr>\n",
              "  </thead>\n",
              "  <tbody>\n",
              "    <tr>\n",
              "      <th>0</th>\n",
              "      <td>31076582227611</td>\n",
              "      <td>93950878</td>\n",
              "      <td>30530270</td>\n",
              "      <td>2019-12-27 00:23:03</td>\n",
              "    </tr>\n",
              "    <tr>\n",
              "      <th>1</th>\n",
              "      <td>31118059853484</td>\n",
              "      <td>156423439</td>\n",
              "      <td>46057927</td>\n",
              "      <td>2019-12-27 11:54:20</td>\n",
              "    </tr>\n",
              "    <tr>\n",
              "      <th>2</th>\n",
              "      <td>31123355095755</td>\n",
              "      <td>173699291</td>\n",
              "      <td>67341739</td>\n",
              "      <td>2019-12-27 13:22:35</td>\n",
              "    </tr>\n",
              "    <tr>\n",
              "      <th>3</th>\n",
              "      <td>31122059872723</td>\n",
              "      <td>63674025</td>\n",
              "      <td>149380322</td>\n",
              "      <td>2019-12-27 13:01:00</td>\n",
              "    </tr>\n",
              "    <tr>\n",
              "      <th>4</th>\n",
              "      <td>31117075665123</td>\n",
              "      <td>127249066</td>\n",
              "      <td>149493217</td>\n",
              "      <td>2019-12-27 11:37:55</td>\n",
              "    </tr>\n",
              "  </tbody>\n",
              "</table>\n",
              "</div>"
            ],
            "text/plain": [
              "          orderid     shopid     userid           event_time\n",
              "0  31076582227611   93950878   30530270  2019-12-27 00:23:03\n",
              "1  31118059853484  156423439   46057927  2019-12-27 11:54:20\n",
              "2  31123355095755  173699291   67341739  2019-12-27 13:22:35\n",
              "3  31122059872723   63674025  149380322  2019-12-27 13:01:00\n",
              "4  31117075665123  127249066  149493217  2019-12-27 11:37:55"
            ]
          },
          "metadata": {
            "tags": []
          },
          "execution_count": 2
        }
      ]
    },
    {
      "cell_type": "code",
      "metadata": {
        "id": "qTB--qgU1O5e",
        "colab_type": "code",
        "colab": {}
      },
      "source": [
        "list_shopid = list(data[\"shopid\"])"
      ],
      "execution_count": null,
      "outputs": []
    },
    {
      "cell_type": "code",
      "metadata": {
        "id": "uD1Gshy41wFk",
        "colab_type": "code",
        "colab": {}
      },
      "source": [
        "set_shopid = set(list_shopid)"
      ],
      "execution_count": null,
      "outputs": []
    },
    {
      "cell_type": "code",
      "metadata": {
        "id": "p7M5dUZK1zkp",
        "colab_type": "code",
        "colab": {
          "base_uri": "https://localhost:8080/",
          "height": 34
        },
        "outputId": "ca4fd88f-adeb-4937-85bf-e12747c97167"
      },
      "source": [
        "print(len(set_shopid))\n",
        "shopid = list(set_shopid)"
      ],
      "execution_count": null,
      "outputs": [
        {
          "output_type": "stream",
          "text": [
            "18770\n"
          ],
          "name": "stdout"
        }
      ]
    },
    {
      "cell_type": "code",
      "metadata": {
        "id": "iVTGb6Tp12Mn",
        "colab_type": "code",
        "colab": {}
      },
      "source": [
        "dict = {\"shopid\": shopid}\n",
        "result = pd.DataFrame(dict, columns = [\"shopid\"])\n",
        "data[\"event_time\"] = pd.to_datetime(data[\"event_time\"])"
      ],
      "execution_count": null,
      "outputs": []
    },
    {
      "cell_type": "code",
      "metadata": {
        "id": "KC6d0Lji9S2-",
        "colab_type": "code",
        "colab": {
          "base_uri": "https://localhost:8080/",
          "height": 136
        },
        "outputId": "001b0e7b-ceed-4774-d8d9-f710fbcd3585"
      },
      "source": [
        "data[\"event_time\"].describe()"
      ],
      "execution_count": null,
      "outputs": [
        {
          "output_type": "execute_result",
          "data": {
            "text/plain": [
              "count                  222750\n",
              "unique                 121064\n",
              "top       2019-12-30 23:31:45\n",
              "freq                       23\n",
              "first     2019-12-27 00:00:00\n",
              "last      2019-12-31 23:59:56\n",
              "Name: event_time, dtype: object"
            ]
          },
          "metadata": {
            "tags": []
          },
          "execution_count": 45
        }
      ]
    },
    {
      "cell_type": "code",
      "metadata": {
        "id": "DNqGWI_b2AMr",
        "colab_type": "code",
        "colab": {}
      },
      "source": [
        "result[\"userid\"] = np.array([0 for k in range(18770)])"
      ],
      "execution_count": null,
      "outputs": []
    },
    {
      "cell_type": "code",
      "metadata": {
        "id": "9d6rq1P02jO_",
        "colab_type": "code",
        "colab": {}
      },
      "source": [
        "from collections import Counter\n",
        "for shop_id in shopid:\n",
        "  indx = []\n",
        "  for ind, id in enumerate(data[\"shopid\"]):\n",
        "    if id == shop_id:\n",
        "      indx.append(ind)\n",
        "  df = data.iloc[indx]\n",
        "  df[\"day\"] = df[\"event_time\"].dt.day\n",
        "  df[\"hour\"] = df[\"event_time\"].dt.hour\n",
        "  for day in [27,28,29,30,31]:\n",
        "    df_day = df[df.day == day]\n",
        "    for hour in range(24):\n",
        "        df_hour = df_day[df_day[\"hour\"] == hour]\n",
        "        trans_num = df_hour.shape[0]\n",
        "        count = Counter(df_hour[\"userid\"].values)\n",
        "        if (trans_num/user >= 3):\n",
        "          value = max(count.values())\n",
        "          lst = [key for key,val in count.values() if val == value] \n",
        "          break\n",
        "    break\n",
        "    if len(user_sus) >= 1:\n",
        "      result[shop_id][\"user_id\"] = user.sus[0]\n",
        "  user_sus = []\n",
        "print(result.head())\n"
      ],
      "execution_count": null,
      "outputs": []
    },
    {
      "cell_type": "code",
      "metadata": {
        "id": "w2tAycK8GNCo",
        "colab_type": "code",
        "colab": {}
      },
      "source": [
        ""
      ],
      "execution_count": null,
      "outputs": []
    }
  ]
}