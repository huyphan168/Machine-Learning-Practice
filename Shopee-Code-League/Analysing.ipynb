{
  "nbformat": 4,
  "nbformat_minor": 0,
  "metadata": {
    "colab": {
      "name": "Analysing.ipynb",
      "provenance": []
    },
    "kernelspec": {
      "name": "python3",
      "display_name": "Python 3"
    }
  },
  "cells": [
    {
      "cell_type": "code",
      "metadata": {
        "id": "-fC8B5tovBaK",
        "colab_type": "code",
        "colab": {}
      },
      "source": [
        "import pandas as pd"
      ],
      "execution_count": 1,
      "outputs": []
    },
    {
      "cell_type": "code",
      "metadata": {
        "id": "egdjRy_vwMGH",
        "colab_type": "code",
        "colab": {}
      },
      "source": [
        "df_dense = pd.read_csv(\"/content/Submission-Dense.csv\")\n",
        "df_enet = pd.read_csv(\"/content/Submission-ENet.csv\")\n",
        "df_resnet = pd.read_csv(\"/content/Submission_resnet.csv\")\n",
        "df = df_dense.copy()"
      ],
      "execution_count": 25,
      "outputs": []
    },
    {
      "cell_type": "code",
      "metadata": {
        "id": "86qEz-QjwwsL",
        "colab_type": "code",
        "colab": {}
      },
      "source": [
        "df[\"category_dense\"] = df_dense[\"category\"]\n",
        "df[\"category_enet\"] = df_enet[\"category\"]\n",
        "df[\"category_resnet\"] = df_resnet[\"category\"]\n",
        "df.drop(\"category\", axis = 1, inplace = True)"
      ],
      "execution_count": 26,
      "outputs": []
    },
    {
      "cell_type": "code",
      "metadata": {
        "id": "U4-NesTsxYxy",
        "colab_type": "code",
        "colab": {
          "base_uri": "https://localhost:8080/",
          "height": 34
        },
        "outputId": "2da9d818-8255-4120-9e42-4e4ccb1c8cb6"
      },
      "source": [
        "count = 0\n",
        "df[\"category\"] = df[\"category_dense\"]\n",
        "for i in range(len(df)):\n",
        "  dense = df.loc[i, \"category_dense\"]\n",
        "  enet = df.loc[i, \"category_enet\"]\n",
        "  resnet = df.loc[i, \"category_resnet\"]\n",
        "  if enet == dense:\n",
        "    df.loc[i, \"category\"] = enet\n",
        "    count += 1\n",
        "  elif dense == resnet:\n",
        "    df.loc[i, \"category\"] = dense\n",
        "    count += 1\n",
        "  elif enet == resnet:\n",
        "    df.loc[i, \"category\"] = enet\n",
        "    count += 1\n",
        "df.drop([\"category_dense\", \"category_enet\", \"category_resnet\"], axis = 1, inplace = True)\n",
        "print(\"Agreesion from 3 models {} %\".format((count*100)/len(df)))"
      ],
      "execution_count": 27,
      "outputs": [
        {
          "output_type": "stream",
          "text": [
            "Agreesion from 3 models 86.38601674052191 %\n"
          ],
          "name": "stdout"
        }
      ]
    },
    {
      "cell_type": "code",
      "metadata": {
        "id": "ts2zA5Wp2cJH",
        "colab_type": "code",
        "colab": {
          "base_uri": "https://localhost:8080/",
          "height": 204
        },
        "outputId": "5cd0a898-3a6f-4bad-dea4-7522ae3ee20f"
      },
      "source": [
        "df.head()"
      ],
      "execution_count": 30,
      "outputs": [
        {
          "output_type": "execute_result",
          "data": {
            "text/html": [
              "<div>\n",
              "<style scoped>\n",
              "    .dataframe tbody tr th:only-of-type {\n",
              "        vertical-align: middle;\n",
              "    }\n",
              "\n",
              "    .dataframe tbody tr th {\n",
              "        vertical-align: top;\n",
              "    }\n",
              "\n",
              "    .dataframe thead th {\n",
              "        text-align: right;\n",
              "    }\n",
              "</style>\n",
              "<table border=\"1\" class=\"dataframe\">\n",
              "  <thead>\n",
              "    <tr style=\"text-align: right;\">\n",
              "      <th></th>\n",
              "      <th>filename</th>\n",
              "      <th>category</th>\n",
              "    </tr>\n",
              "  </thead>\n",
              "  <tbody>\n",
              "    <tr>\n",
              "      <th>0</th>\n",
              "      <td>fd663cf2b6e1d7b02938c6aaae0a32d2.jpg</td>\n",
              "      <td>25</td>\n",
              "    </tr>\n",
              "    <tr>\n",
              "      <th>1</th>\n",
              "      <td>c7fd77508a8c355eaab0d4e10efd6b15.jpg</td>\n",
              "      <td>27</td>\n",
              "    </tr>\n",
              "    <tr>\n",
              "      <th>2</th>\n",
              "      <td>127f3e6d6e3491b2459812353f33a913.jpg</td>\n",
              "      <td>4</td>\n",
              "    </tr>\n",
              "    <tr>\n",
              "      <th>3</th>\n",
              "      <td>5ca4f2da11eda083064e6c36f37eeb81.jpg</td>\n",
              "      <td>22</td>\n",
              "    </tr>\n",
              "    <tr>\n",
              "      <th>4</th>\n",
              "      <td>46d681a542f2c71be017eef6aae23313.jpg</td>\n",
              "      <td>12</td>\n",
              "    </tr>\n",
              "  </tbody>\n",
              "</table>\n",
              "</div>"
            ],
            "text/plain": [
              "                               filename  category\n",
              "0  fd663cf2b6e1d7b02938c6aaae0a32d2.jpg        25\n",
              "1  c7fd77508a8c355eaab0d4e10efd6b15.jpg        27\n",
              "2  127f3e6d6e3491b2459812353f33a913.jpg         4\n",
              "3  5ca4f2da11eda083064e6c36f37eeb81.jpg        22\n",
              "4  46d681a542f2c71be017eef6aae23313.jpg        12"
            ]
          },
          "metadata": {
            "tags": []
          },
          "execution_count": 30
        }
      ]
    },
    {
      "cell_type": "code",
      "metadata": {
        "id": "E6k6HJ082hEN",
        "colab_type": "code",
        "colab": {
          "base_uri": "https://localhost:8080/",
          "height": 204
        },
        "outputId": "f9bfb871-4622-4608-f2a9-5eedc7041265"
      },
      "source": [
        "df_dense.head()"
      ],
      "execution_count": 31,
      "outputs": [
        {
          "output_type": "execute_result",
          "data": {
            "text/html": [
              "<div>\n",
              "<style scoped>\n",
              "    .dataframe tbody tr th:only-of-type {\n",
              "        vertical-align: middle;\n",
              "    }\n",
              "\n",
              "    .dataframe tbody tr th {\n",
              "        vertical-align: top;\n",
              "    }\n",
              "\n",
              "    .dataframe thead th {\n",
              "        text-align: right;\n",
              "    }\n",
              "</style>\n",
              "<table border=\"1\" class=\"dataframe\">\n",
              "  <thead>\n",
              "    <tr style=\"text-align: right;\">\n",
              "      <th></th>\n",
              "      <th>filename</th>\n",
              "      <th>category</th>\n",
              "    </tr>\n",
              "  </thead>\n",
              "  <tbody>\n",
              "    <tr>\n",
              "      <th>0</th>\n",
              "      <td>fd663cf2b6e1d7b02938c6aaae0a32d2.jpg</td>\n",
              "      <td>25</td>\n",
              "    </tr>\n",
              "    <tr>\n",
              "      <th>1</th>\n",
              "      <td>c7fd77508a8c355eaab0d4e10efd6b15.jpg</td>\n",
              "      <td>27</td>\n",
              "    </tr>\n",
              "    <tr>\n",
              "      <th>2</th>\n",
              "      <td>127f3e6d6e3491b2459812353f33a913.jpg</td>\n",
              "      <td>4</td>\n",
              "    </tr>\n",
              "    <tr>\n",
              "      <th>3</th>\n",
              "      <td>5ca4f2da11eda083064e6c36f37eeb81.jpg</td>\n",
              "      <td>14</td>\n",
              "    </tr>\n",
              "    <tr>\n",
              "      <th>4</th>\n",
              "      <td>46d681a542f2c71be017eef6aae23313.jpg</td>\n",
              "      <td>12</td>\n",
              "    </tr>\n",
              "  </tbody>\n",
              "</table>\n",
              "</div>"
            ],
            "text/plain": [
              "                               filename  category\n",
              "0  fd663cf2b6e1d7b02938c6aaae0a32d2.jpg        25\n",
              "1  c7fd77508a8c355eaab0d4e10efd6b15.jpg        27\n",
              "2  127f3e6d6e3491b2459812353f33a913.jpg         4\n",
              "3  5ca4f2da11eda083064e6c36f37eeb81.jpg        14\n",
              "4  46d681a542f2c71be017eef6aae23313.jpg        12"
            ]
          },
          "metadata": {
            "tags": []
          },
          "execution_count": 31
        }
      ]
    },
    {
      "cell_type": "code",
      "metadata": {
        "id": "Hwn8I1R8xfD-",
        "colab_type": "code",
        "colab": {}
      },
      "source": [
        "pd.DataFrame.to_csv(df, \"Submission_final.csv\", index = False)"
      ],
      "execution_count": 28,
      "outputs": []
    },
    {
      "cell_type": "code",
      "metadata": {
        "id": "V9Tr6JT70GtC",
        "colab_type": "code",
        "colab": {}
      },
      "source": [
        "!cp /content/kaggle.json ~/.kaggle"
      ],
      "execution_count": 23,
      "outputs": []
    },
    {
      "cell_type": "code",
      "metadata": {
        "id": "P12C7Xd91FZ9",
        "colab_type": "code",
        "colab": {
          "base_uri": "https://localhost:8080/",
          "height": 105
        },
        "outputId": "972d6093-3b2f-47b2-fffc-b5b214f9e00f"
      },
      "source": [
        "!kaggle competitions submit -c shopee-product-detection-student -f Submission_final.csv -m \"Message\""
      ],
      "execution_count": 24,
      "outputs": [
        {
          "output_type": "stream",
          "text": [
            "Warning: Your Kaggle API key is readable by other users on this system! To fix this, you can run 'chmod 600 /root/.kaggle/kaggle.json'\n",
            "Warning: Looks like you're using an outdated API Version, please consider updating (server 1.5.6 / client 1.5.4)\n",
            "100% 473k/473k [00:09<00:00, 49.0kB/s]\n",
            "Successfully submitted to [Student] Shopee Code League - Product Detection "
          ],
          "name": "stdout"
        }
      ]
    },
    {
      "cell_type": "code",
      "metadata": {
        "id": "QyfR_IF71ZZH",
        "colab_type": "code",
        "colab": {}
      },
      "source": [
        ""
      ],
      "execution_count": null,
      "outputs": []
    }
  ]
}