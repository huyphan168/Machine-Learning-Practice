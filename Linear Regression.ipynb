import numpy as np
import math
import matplotlib.pyplot as plt

x = np.random.randn(100,1)
x2 = np.power(x, 2)
Y = (1/2)*(x**2) + 2*x + 7 + 0.2*np.random.randn(100,1)
ones = np.ones(x.shape)
Xbar = np.concatenate((ones, x, x2),axis = 1)
def costfunc(w):
    return (1/Xbar.shape[0])*(np.linalg.norm(np.dot(Xbar,w)-Y,2)**2)
def deri(w):
    return (1/Xbar.shape[0])*np.dot(Xbar.T, np.dot(Xbar,w)-Y)
def grd1(eta, w):
    W = [w]
    for epoch in range(300):
        t = W[-1] - deri(W[-1])
        if costfunc(t) < 1e-3:
            break 
        else:
               W.append(t)
    return W[-1]
w1 = grd1(0.2, [[0.4],[0],[0]])
w_0 = w1[0][0]
w_1 = w1[1][0]
w_2 = w1[2][0]
x0 = np.linspace(-10, 10, 100, endpoint=True)
y0 = w_0 + w_1*x0 + w_2*x0
print(w1)
# Draw the fitting line 
plt.plot(x.T, Y.T, 'b.')     # data 
plt.plot(x0, y0, 'y', linewidth = 4)   # the fitting line
plt.axis([-10, 10, 0 , 50])
plt.show()
