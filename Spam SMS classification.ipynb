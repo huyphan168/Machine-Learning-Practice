{
 "cells": [
  {
   "cell_type": "code",
   "execution_count": null,
   "metadata": {},
   "outputs": [],
   "source": [
    "importnltk\n",
    "nltk.download(\"punkt\")\n",
    "nltk.download(\"stopwords\")\n",
    "from nltk.corpus import stopwords\n",
    "stop_word_lower = stopwords.words(\"english\")"
   ]
  },
  {
   "cell_type": "code",
   "execution_count": null,
   "metadata": {},
   "outputs": [],
   "source": [
    "from sklearn.feature_extraction.text import CountVectorizer\n",
    "def bow_sklearn(text):\n",
    "    CV = CountVectorizer(stop_words = stop_word_lower, token_pattern = \"\\w+\")\n",
    "    countvector = CV.fit_transform(text).todense()\n",
    "    print(countvector.shape)\n",
    "    return countvector"
   ]
  },
  {
   "cell_type": "code",
   "execution_count": null,
   "metadata": {},
   "outputs": [],
   "source": [
    "import pandas as pd\n",
    "from sklearn.linear_model import LogisticRegression\n",
    "df = pd.read_csv(\"spam.csv\", encoding = \"latin1\")\n",
    "for column in df.iloc[:, [2,3,4]]:\n",
    "    df.drop(column, axis = 1, inplace = True)\n",
    "df[\"v1\"] = df[\"v1\"].map({\"ham\": 0, \"spam\": 1})"
   ]
  },
  {
   "cell_type": "code",
   "execution_count": null,
   "metadata": {},
   "outputs": [],
   "source": [
    "from sklearn.model_selection import train_test_split\n",
    "from sklearn.metrics import accuracy_score\n",
    "data_matrix = bow_sklearn(df[\"v2\"])\n",
    "y = df[\"v1\"]\n",
    "X_train, X_test, y_train, y_test = train_test_split(data_matrix, y, test_size = 0.2)\n",
    "LReg = LogisticRegression(penalty = \"elasticnet\", solver = \"saga\", l1_ratio = 0.5)\n",
    "LReg.fit(X_train, y_train)\n",
    "y_pred = LReg.predict(X_test)\n",
    "print(\"Độ chính xác phân loại spam là {} %\".format(accuracy_score(y_pred, y_test)*100))"
   ]
  },
  {
   "cell_type": "code",
   "execution_count": null,
   "metadata": {},
   "outputs": [],
   "source": []
  }
 ],
 "metadata": {
  "kernelspec": {
   "display_name": "Python 3.6.9 64-bit",
   "language": "python",
   "name": "python36964bit43e8cc203a94412fab801fddeb095911"
  },
  "language_info": {
   "codemirror_mode": {
    "name": "ipython",
    "version": 3
   },
   "file_extension": ".py",
   "mimetype": "text/x-python",
   "name": "python",
   "nbconvert_exporter": "python",
   "pygments_lexer": "ipython3",
   "version": "3.6.9"
  }
 },
 "nbformat": 4,
 "nbformat_minor": 2
}
