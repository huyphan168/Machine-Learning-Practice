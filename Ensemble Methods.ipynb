{
 "cells": [
  {
   "cell_type": "code",
   "execution_count": null,
   "metadata": {},
   "outputs": [],
   "source": [
    "from sklearn.ensemble import BaggingClassifier\n",
    "from sklearn.tree import DecisionTreeClassifier\n",
    "import numpy as np\n",
    "from sklearn import datasets\n",
    "iris = datasets.load_iris()\n",
    "data = iris[\"data\"]\n",
    "X_train = data[:, [2,3]]\n",
    "y_train = (iris[\"target\"] == 2).astype(np.float64)\n",
    "\n",
    "bclf = BaggingClassifier(DecisionTreeClassifier(max_depth = 4), max_samples = 1, bootstrap = True, n_estimators = 500, n_jobs = -1, oob_score = True)\n",
    "bclf.fit(X_train, y_train)\n",
    "print(bclf.oob_score_)"
   ]
  },
  {
   "cell_type": "code",
   "execution_count": null,
   "metadata": {},
   "outputs": [],
   "source": [
    "from sklearn.model_selection import train_test_split\n",
    "from sklearn.metrics import accuracy_score\n",
    "from sklearn.ensemble import RandomForestClassifier\n",
    "X_train, X_test, y_train, y_test = train_test_split(X_train, y_train, test_size = 0.2)\n",
    "RFC = RandomForestClassifier(n_estimators = 500, max_leaf_nodes = 16, max_depth = 6, n_jobs = -1)\n",
    "RFC.fit(X_train, y_train)\n",
    "y_pred = RFC.predict(X_test)\n",
    "print(\"accuracy {}%\".format(accuracy_score(y_pred, y_test)*100))"
   ]
  },
  {
   "cell_type": "code",
   "execution_count": null,
   "metadata": {},
   "outputs": [],
   "source": [
    "bclf = BaggingClassifier(DecisionTreeClassifier(splitter = \"random\", max_leaf_nodes = 16, max_depth = 6), n_estimators = 500, n_jobs = -1, bootstrap = True)\n",
    "bclf.fit(X_train, y_train)\n",
    "y_pred = bclf.predict(X_test)\n",
    "print(\"accuracy: {}%\".format(accuracy_score(y_pred, y_test)*100))"
   ]
  }
 ],
 "metadata": {
  "kernelspec": {
   "display_name": "Python 3.6.9 64-bit",
   "language": "python",
   "name": "python36964bit43e8cc203a94412fab801fddeb095911"
  },
  "language_info": {
   "codemirror_mode": {
    "name": "ipython",
    "version": 3
   },
   "file_extension": ".py",
   "mimetype": "text/x-python",
   "name": "python",
   "nbconvert_exporter": "python",
   "pygments_lexer": "ipython3",
   "version": "3.6.9"
  }
 },
 "nbformat": 4,
 "nbformat_minor": 2
}
