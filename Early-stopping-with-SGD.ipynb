from sklearn.model_selection import train_test_split
import matplotlib.pyplot as plt
np.random.seed(42)
m = 100
X = 6 * np.random.rand(m, 1) - 3
y = 2 + X + 0.5 * X**2 + np.random.randn(m, 1)

X_train, X_val, y_train, y_val = train_test_split(X[:50], y[:50].ravel(), test_size=0.5, random_state=10)
plt.plot(X, y, "co", color = "blue")

from sklearn.pipeline import Pipeline
from sklearn.preprocessing import PolynomialFeatures
from sklearn.preprocessing import StandardScaler
pipeline = Pipeline([("PE", PolynomialFeatures(degree = 2, include_bias = False)),
                     ("SS", StandardScaler())])
X_train_transformed = pipeline.fit_transform(X_train)
X_val_transformed = pipeline.transform(X_val)
print(X_val_transformed.shape)

from sklearn.linear_model import SGDRegressor
from sklearn.metrics import mean_squared_error
from sklearn.base import clone
SGD = SGDRegressor(max_iter = 1, tol = -np.infty, warm_start = True, eta0 = 0.001)
stopping_point = np.inf
best_epoch = None
best_model = None
training_error_lst = list()
val_error_lst = list()
epoch_lst = list()
for epoch in range(1000):
    SGD.fit(X_train_transformed, y_train)
    y_val_predict = SGD.predict(X_val_transformed)
    val_error = mean_squared_error(y_val_predict, y_val)
    y_train_predict = SGD.predict(X_train_transformed)
    training_error = mean_squared_error(y_train_predict, y_train)
    training_error_lst.append(training_error)
    val_error_lst.append(val_error)
    epoch_lst.append(epoch)
    if val_error < stopping_point:
        best_epoch = epoch
        best_model = clone(SGD)
train = np.array(training_error_lst)
val = np.array(val_error_lst)
epoch = np.array(epoch_lst)
plt.plot(train, epoch, "-r", label = "training_set")
plt.plot(val, epoch, "-b", label = "validation_set")
plt.legend(loc = "center right")

SGD = SGDRegressor(max_iter = 999, tol = -np.infty, warm_start = True, eta0 = 0.001)
SGD.fit(X_train_transformed, y_train)
y_predict = SGD.predict(X_val_transformed)
plt.plot(X_val, y_predict, "-r", label = "Prediction")
plt.plot(X_train, y_train, "co")
plt.legend(loc = "center right")
