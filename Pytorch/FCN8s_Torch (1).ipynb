{
  "nbformat": 4,
  "nbformat_minor": 0,
  "metadata": {
    "colab": {
      "name": "FCN8s_Torch.ipynb",
      "provenance": []
    },
    "kernelspec": {
      "name": "python3",
      "display_name": "Python 3"
    },
    "accelerator": "TPU"
  },
  "cells": [
    {
      "cell_type": "code",
      "metadata": {
        "id": "L7irIKi8JALV",
        "colab_type": "code",
        "colab": {}
      },
      "source": [
        "import torch\n",
        "import torch.nn as nn\n",
        "import torch.nn.functional as F\n",
        "import torchvision\n",
        "import ignite\n",
        "from torchvision import transforms\n",
        "from torch.utils.data import DataLoader\n",
        "import ignite\n",
        "from ignite import metrics, engine\n",
        "import torch.optim as optim\n",
        "import torch_xla_py.xla_model as xm\n",
        "from torchsummary import summary"
      ],
      "execution_count": 0,
      "outputs": []
    },
    {
      "cell_type": "code",
      "metadata": {
        "id": "_S100_PqjtsC",
        "colab_type": "code",
        "colab": {}
      },
      "source": [
        "class Crop(nn.Module):\n",
        "    def __init__(self, axis = 2, offset = 2):\n",
        "        super(Crop, self).__init__()\n",
        "        self.axis = axis\n",
        "        self.offset = offset\n",
        "    def __repr__(self):\n",
        "        return 'Crop(axis=%d, offset=%d)' % (self.axis, self.offset)\n",
        "\n",
        "    def forward(self, x, ref):\n",
        "        for axis in range(self.axis, x.dim()):\n",
        "            ref_size = ref.size(axis)\n",
        "            indices = torch.arange(self.offset, self.offset + ref_size).long()\n",
        "            indices = x.data.new().resize_(indices.size()).copy_(indices)\n",
        "            x = x.index_select(axis, Variable(indices))\n",
        "        return x\n"
      ],
      "execution_count": 0,
      "outputs": []
    },
    {
      "cell_type": "code",
      "metadata": {
        "id": "IL9WDC4hJihA",
        "colab_type": "code",
        "colab": {}
      },
      "source": [
        "class FCN8s(nn.Module):\n",
        "    def __init__(self, classes, input_shape = (3, 224, 224)):\n",
        "        super(FCN8s, self).__init__()\n",
        "        self.conv1 = nn.Sequential(\n",
        "            nn.Conv2d(3, 64, stride = 1, padding = 1, kernel_size = 3),\n",
        "            nn.ReLU(),\n",
        "            nn.Conv2d(64, 64, stride = 1, padding = 1, kernel_size = 3),\n",
        "            nn.ReLU()\n",
        "            )\n",
        "        self.maxpool1 = nn.MaxPool2d((2,2), stride = 2)\n",
        "        self.conv2 = nn.Sequential(\n",
        "            nn.Conv2d(64, 128, stride = 1, padding = 1, kernel_size =3),\n",
        "            nn.ReLU(),\n",
        "            nn.Conv2d(128, 128, stride = 1, padding = 1, kernel_size =3),\n",
        "            nn.ReLU()\n",
        "            )\n",
        "        self.maxpool2 = nn.MaxPool2d((2,2), stride = 2)\n",
        "        self.conv3 = nn.Sequential(\n",
        "            nn.Conv2d(128, 256, stride = 1, padding = 1, kernel_size = 3),\n",
        "            nn.ReLU(),\n",
        "            nn.Conv2d(256, 256, stride = 1, padding = 1, kernel_size = 3),\n",
        "            nn.ReLU(),\n",
        "            nn.Conv2d(256, 256, stride = 1, padding = 1, kernel_size = 3),\n",
        "            nn.ReLU()\n",
        "            )             \n",
        "        self.maxpool3 = nn.MaxPool2d((2,2), stride = 2)\n",
        "        self.conv4 = nn.Sequential(\n",
        "            nn.Conv2d(256, 512, stride = 1, padding = 1, kernel_size = 3),\n",
        "            nn.ReLU(),\n",
        "            nn.Conv2d(512, 512, stride = 1, padding = 1, kernel_size = 3),\n",
        "            nn.ReLU(),\n",
        "            nn.Conv2d(512, 512, stride = 1, padding = 1, kernel_size = 3),\n",
        "            nn.ReLU()\n",
        "            )\n",
        "        self.maxpool4 = nn.MaxPool2d((2,2), stride = 2)\n",
        "        self.conv5 = nn.Sequential(\n",
        "            nn.Conv2d(512, 512, stride = 1, padding = 1, kernel_size = 3),\n",
        "            nn.ReLU(),\n",
        "            nn.Conv2d(512, 512, stride = 1, padding = 1, kernel_size = 3),\n",
        "            nn.ReLU(),\n",
        "            nn.Conv2d(512, 512, stride = 1, padding = 1, kernel_size = 3),\n",
        "            nn.ReLU()\n",
        "            )\n",
        "        self.maxpool5 = nn.MaxPool2d((2,2), stride = 2)\n",
        "        self.conv6 = nn.Sequential(\n",
        "            nn.Conv2d(512, 4096, padding = None, kernel_size = 1),\n",
        "            nn.ReLU(),\n",
        "            nn.Dropout(0.5)\n",
        "            )\n",
        "        self.conv7 = nn.Sequential(\n",
        "            nn.Conv2d(4096, 4096, padding = None, kernel_size = 7),\n",
        "            nn.ReLU(),\n",
        "            nn.Dropout(0.5)\n",
        "            )\n",
        "        self.score_7 = nn.Conv2d(4096, classes, kernel_size = 1)\n",
        "        self.upscore_7 = nn.ConvTranspose2d(classes, classes, kernel_size = 4, stride = 2)\n",
        "        self.score_pool4 = nn.Conv2d(512, classes, kernel_size = 1)\n",
        "        self.crop_4 = Crop()\n",
        "        self.upscore_7_4 = nn.ConvTranspose2d(classes, classes, kernel_size = 4, stride = 2)\n",
        "        self.score_pool3 = nn.Conv2d(256, classes, kernel_size = 1) \n",
        "        self.crop_3 = Crop()\n",
        "        self.upscore_7_4_3 = nn.ConvTranspose2d(classes, classes, kernel_size = 16, stride = 8)\n",
        "    def forward(self, input):\n",
        "        x = self.conv1(input)\n",
        "        x = self.maxpool1(x)\n",
        "        x = self.conv2(x)\n",
        "        x = self.maxpool2(x)\n",
        "        x = self.conv3(x)\n",
        "        x_pool3 = self.maxpool3(x)\n",
        "        x_score3 = self.score_pool3(x_pool3)\n",
        "        x = self.conv4(x_pool3)\n",
        "        x_pool4 = self.maxpool4(x)\n",
        "        x_score4 = self.score_pool4(x_pool4)\n",
        "        x = self.conv5(x_pool4)\n",
        "        x = self.maxpool5(x)\n",
        "        x = self.conv6(x)\n",
        "        x = self.conv7(x)\n",
        "        x_score7 = self.score_7(x)\n",
        "        x_score7 = self.upscore_7(x_score7)\n",
        "        x_score4 = self.crop_4(x_score4, x_score7)\n",
        "        x_score_7_4 = x_score4 + x_score7\n",
        "        x_score_7_4 = self.upscore_7_4(x_score_7_4)\n",
        "        x_score3 = self.crop_3(x_score3, x_score_7_4)\n",
        "        x_score_7_4_3 = x_score3 + x_score_7_4\n",
        "        X = self.upscore_7_4_3(x_score_7_4_3)\n",
        "        output = F.softmax(X)\n",
        "        return output"
      ],
      "execution_count": 0,
      "outputs": []
    },
    {
      "cell_type": "code",
      "metadata": {
        "id": "gfo3Rq-bsSwr",
        "colab_type": "code",
        "colab": {}
      },
      "source": [
        "FCN = FCN8s(21)"
      ],
      "execution_count": 0,
      "outputs": []
    },
    {
      "cell_type": "code",
      "metadata": {
        "id": "Qc6f6HoUrxAm",
        "colab_type": "code",
        "colab": {}
      },
      "source": [
        "loss = nn.CrossEntropyLoss()\n",
        "optimizer = optim.Adam(FCN.parameters(), 0.001)"
      ],
      "execution_count": 0,
      "outputs": []
    },
    {
      "cell_type": "code",
      "metadata": {
        "id": "sPJVqAKyml5W",
        "colab_type": "code",
        "colab": {}
      },
      "source": [
        "VERSION = \"1.5\"  #@param [\"1.5\" , \"20200325\", \"nightly\"]\n",
        "!curl https://raw.githubusercontent.com/pytorch/xla/master/contrib/scripts/env-setup.py -o pytorch-xla-env-setup.py\n",
        "!python pytorch-xla-env-setup.py --version $VERSION"
      ],
      "execution_count": 0,
      "outputs": []
    },
    {
      "cell_type": "code",
      "metadata": {
        "id": "ZdO20EObsbu4",
        "colab_type": "code",
        "colab": {}
      },
      "source": [
        "\n",
        "iter = 0\n",
        "for epoch in range(num_epochs):\n",
        "    for i, (images, mask) in enumerate(train_loader):\n",
        "        images = images.requires_grad_()\n",
        "        optimizer.zero_grad()\n",
        "        outputs = model(images)\n",
        "        loss = criterion(outputs, labels)\n",
        "        loss.backward()\n",
        "        optimizer.step()\n",
        "        iter += 1\n",
        "        if iter % 500 == 0:\n",
        "            correct = 0\n",
        "            total = 0\n",
        "            for images, labels in test_loader:\n",
        "                images = images.requires_grad_()\n",
        "                outputs = model(images)\n",
        "                _, predicted = torch.max(outputs.data, 1)\n",
        "                total += labels.size(0)\n",
        "\n",
        "                correct += (predicted == labels).sum()\n",
        "            accuracy = 100 * correct / total\n",
        "\n",
        "            print('Iteration: {}. Loss: {}. Accuracy: {}'.format(iter, loss.item(), accuracy))"
      ],
      "execution_count": 0,
      "outputs": []
    },
    {
      "cell_type": "code",
      "metadata": {
        "id": "B-2mJLerxeAo",
        "colab_type": "code",
        "colab": {}
      },
      "source": [
        ""
      ],
      "execution_count": 0,
      "outputs": []
    }
  ]
}